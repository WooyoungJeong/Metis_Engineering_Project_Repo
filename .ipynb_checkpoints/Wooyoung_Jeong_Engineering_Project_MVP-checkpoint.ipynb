{
 "cells": [
  {
   "cell_type": "code",
   "execution_count": 1,
   "id": "e9342707",
   "metadata": {},
   "outputs": [],
   "source": [
    "from __future__ import division, print_function"
   ]
  },
  {
   "cell_type": "code",
   "execution_count": 2,
   "id": "e7a4d757",
   "metadata": {},
   "outputs": [],
   "source": [
    "import requests, bs4\n",
    "from bs4 import BeautifulSoup as bs\n",
    "import pandas as pd\n",
    "from time import sleep\n",
    "import seaborn as sns\n",
    "import statsmodels.api as sm\n",
    "import matplotlib.pyplot as plt\n",
    "import numpy as np\n",
    "from sklearn.linear_model import LinearRegression\n",
    "from sklearn.model_selection import (cross_val_score, train_test_split, \n",
    "                                     KFold, GridSearchCV)"
   ]
  },
  {
   "cell_type": "code",
   "execution_count": 41,
   "id": "42d5f0a8",
   "metadata": {},
   "outputs": [
    {
     "name": "stdout",
     "output_type": "stream",
     "text": [
      "['2012', '2013', '2014', '2015', '2016', '2017', '2018', '2019', '2020', '2021']\n",
      "['2008', '2009', '2010', '2011']\n",
      "['2005', '2006', '2007']\n",
      "['1960', '1961', '1962', '1963', '1964', '1965', '1966', '1967', '1968', '1969', '1970', '1971', '1972', '1973', '1974', '1975', '1976', '1977', '1978', '1979', '1980', '1981', '1982', '1983', '1984', '1985', '1986', '1987', '1988', '1989', '1990', '1991', '1992', '1993', '1994', '1995', '1996', '1997', '1998', '1999', '2000', '2001', '2002', '2003', '2004', '2005']\n",
      "1890\n"
     ]
    }
   ],
   "source": [
    "# List of major league teams' statistics \n",
    "# 2012 to 2021\n",
    "url = 'https://www.baseball-reference.com/teams/{}/{}'\n",
    "team_list = ['ATL', 'PHI', 'NYM', 'MIA', 'WSN', 'MIL', 'STL', 'CIN', 'CHC',\n",
    "            'PIT', 'SFG', 'LAD', 'SDP', 'COL', 'ARI', 'TBR', 'NYY', 'BOS',\n",
    "            'TOR', 'BAL', 'CHW', 'CLE', 'DET', 'KCR', 'MIN', 'HOU', 'SEA', \n",
    "            'OAK', 'LAA', 'TEX']\n",
    "url_list = []\n",
    "\n",
    "year_list = [*range(2012, 2022, 1)]\n",
    "year_list = [str(x) for x in year_list]\n",
    "print(year_list)\n",
    "for t in team_list:\n",
    "    url = 'https://www.baseball-reference.com/teams/'+t+ '/'\n",
    "#         url_list.append(url)\n",
    "    for i in year_list:\n",
    "        url_year = url + i +'.shtml'    \n",
    "        url_list.append(url_year)\n",
    "\n",
    "# # #2008 to 2011        \n",
    "team_list_2 = ['ATL', 'PHI', 'NYM', 'FLA', 'WSN', 'MIL', 'STL', 'CIN', 'CHC',\n",
    "            'PIT', 'SFG', 'LAD', 'SDP', 'COL', 'ARI', 'TBR', 'NYY', 'BOS',\n",
    "            'TOR', 'BAL', 'CHW', 'CLE', 'DET', 'KCR', 'MIN', 'HOU', 'SEA', \n",
    "            'OAK', 'LAA', 'TEX']\n",
    "\n",
    "year_list_2 = [*range (2008, 2012, 1)]\n",
    "year_list_2 = [str(x) for x in year_list_2]\n",
    "print(year_list_2)\n",
    "\n",
    "\n",
    "for t in team_list_2:\n",
    "    url = 'https://www.baseball-reference.com/teams/'+t+ '/'\n",
    "    for i in year_list_2:\n",
    "        url_year = url + i +'.shtml'    \n",
    "        url_list.append(url_year)\n",
    "\n",
    "\n",
    "\n",
    "# 2005 TO 2007\n",
    "\n",
    "team_list_3 = ['ATL', 'PHI', 'NYM', 'FLA', 'WSN', 'MIL', 'STL', 'CIN', 'CHC',\n",
    "            'PIT', 'SFG', 'LAD', 'SDP', 'COL', 'ARI', 'TBD', 'NYY', 'BOS',\n",
    "            'TOR', 'BAL', 'CHW', 'CLE', 'DET', 'KCR', 'MIN', 'HOU', 'SEA', \n",
    "            'OAK', 'LAA', 'TEX']\n",
    "year_list_3 = [*range (2005, 2008, 1)]\n",
    "year_list_3 = [str(x) for x in year_list_3]\n",
    "\n",
    "print(year_list_3)\n",
    "\n",
    "for t in team_list_3:\n",
    "    url = 'https://www.baseball-reference.com/teams/'+t+ '/'\n",
    "    for i in year_list_3:\n",
    "        url_year = url + i +'.shtml'    \n",
    "        url_list.append(url_year)\n",
    "\n",
    "#1960 to 2005\n",
    "\n",
    "team_list_4 = ['ATL', 'PHI', 'NYM', 'FLA', 'MON', 'MIL', 'STL', 'CIN', 'CHC',\n",
    "            'PIT', 'SFG', 'LAD', 'SDP', 'COL', 'ARI', 'TBD', 'NYY', 'BOS',\n",
    "            'TOR', 'BAL', 'CHW', 'CLE', 'DET', 'KCR', 'MIN', 'HOU', 'SEA', \n",
    "            'OAK', 'LAA', 'TEX']\n",
    "\n",
    "year_list_4 = [*range (1960, 2006, 1)]\n",
    "year_list_4 = [str(x) for x in year_list_4]\n",
    "\n",
    "print(year_list_4)\n",
    "\n",
    "for t in team_list_4:\n",
    "    url = 'https://www.baseball-reference.com/teams/'+t+ '/'\n",
    "    for i in year_list_4:\n",
    "        url_year = url + i +'.shtml'    \n",
    "        url_list.append(url_year)\n",
    "\n",
    "\n",
    "print(len(url_list))"
   ]
  },
  {
   "cell_type": "code",
   "execution_count": 42,
   "id": "1ddd8500",
   "metadata": {},
   "outputs": [],
   "source": [
    "def delete_let(a, b):\n",
    "    num_let = a.count(b)\n",
    "    i = 0\n",
    "    while i < num_let:\n",
    "        a.remove(b)\n",
    "        i += 1\n",
    "    return a\n",
    "\n"
   ]
  },
  {
   "cell_type": "code",
   "execution_count": 43,
   "id": "a751339b",
   "metadata": {
    "scrolled": true
   },
   "outputs": [
    {
     "ename": "AttributeError",
     "evalue": "'NoneType' object has no attribute 'find_all'",
     "output_type": "error",
     "traceback": [
      "\u001b[0;31m---------------------------------------------------------------------------\u001b[0m",
      "\u001b[0;31mAttributeError\u001b[0m                            Traceback (most recent call last)",
      "\u001b[0;32m/tmp/ipykernel_7615/1555491103.py\u001b[0m in \u001b[0;36m<cell line: 17>\u001b[0;34m()\u001b[0m\n\u001b[1;32m     21\u001b[0m \u001b[0;34m\u001b[0m\u001b[0m\n\u001b[1;32m     22\u001b[0m     \u001b[0;31m#age\u001b[0m\u001b[0;34m\u001b[0m\u001b[0;34m\u001b[0m\u001b[0m\n\u001b[0;32m---> 23\u001b[0;31m     \u001b[0mage_tag\u001b[0m \u001b[0;34m=\u001b[0m \u001b[0mspex\u001b[0m\u001b[0;34m.\u001b[0m\u001b[0mfind_all\u001b[0m\u001b[0;34m(\u001b[0m\u001b[0mattrs\u001b[0m \u001b[0;34m=\u001b[0m \u001b[0;34m{\u001b[0m\u001b[0;34m'data-stat'\u001b[0m \u001b[0;34m:\u001b[0m \u001b[0;34m'age'\u001b[0m\u001b[0;34m}\u001b[0m\u001b[0;34m)\u001b[0m\u001b[0;34m\u001b[0m\u001b[0;34m\u001b[0m\u001b[0m\n\u001b[0m\u001b[1;32m     24\u001b[0m     \u001b[0mage\u001b[0m \u001b[0;34m=\u001b[0m \u001b[0;34m[\u001b[0m\u001b[0mt\u001b[0m\u001b[0;34m.\u001b[0m\u001b[0mtext\u001b[0m \u001b[0;32mfor\u001b[0m \u001b[0mt\u001b[0m \u001b[0;32min\u001b[0m \u001b[0mage_tag\u001b[0m\u001b[0;34m]\u001b[0m\u001b[0;34m\u001b[0m\u001b[0;34m\u001b[0m\u001b[0m\n\u001b[1;32m     25\u001b[0m     \u001b[0mdelete_let\u001b[0m\u001b[0;34m(\u001b[0m\u001b[0mage\u001b[0m\u001b[0;34m,\u001b[0m \u001b[0;34m'Age'\u001b[0m\u001b[0;34m)\u001b[0m\u001b[0;34m\u001b[0m\u001b[0;34m\u001b[0m\u001b[0m\n",
      "\u001b[0;31mAttributeError\u001b[0m: 'NoneType' object has no attribute 'find_all'"
     ]
    }
   ],
   "source": [
    "player_list = []\n",
    "\n",
    "age_f = []\n",
    "game_played_f = []\n",
    "pa_f = []\n",
    "at_bat_f = []\n",
    "runs_f = []\n",
    "hits_f = []\n",
    "doubles_f = []\n",
    "homeruns_f = []\n",
    "so_f = []\n",
    "bb_f = []\n",
    "ba_f = []\n",
    "rbi_f = []\n",
    "\n",
    "\n",
    "for u in url_list:\n",
    "    soup = bs(requests.get(u).text)\n",
    "\n",
    "    spex = soup.find('tbody')\n",
    "\n",
    "    #age\n",
    "    age_tag = spex.find_all(attrs = {'data-stat' : 'age'})\n",
    "    age = [t.text for t in age_tag]\n",
    "    delete_let(age, 'Age')\n",
    "    age_f.extend(age)\n",
    "#     print(age)\n",
    "\n",
    "\n",
    "    #Game played\n",
    "    game_played_tag = spex.find_all(attrs = {'data-stat' : 'G'})\n",
    "    game_played = [t.text for t in game_played_tag]\n",
    "    delete_let(game_played, 'G')\n",
    "    game_played_f.extend(game_played)\n",
    "#     print(game_played)\n",
    "\n",
    "    #Plate Appearances\n",
    "    pa_tag = spex.find_all(attrs = {'data-stat' : 'PA'})\n",
    "    pa = [t.text for t in pa_tag]\n",
    "    delete_let(pa, 'PA')\n",
    "    pa_f.extend(pa)\n",
    "#     print(pa)\n",
    "\n",
    "    #At Bats\n",
    "    at_bat_tag = spex.find_all(attrs = {'data-stat' : 'AB'})\n",
    "    at_bat = [t.text for t in at_bat_tag]\n",
    "    delete_let(at_bat, 'AB')\n",
    "    at_bat_f.extend(at_bat)\n",
    "#     print(at_bat)\n",
    "\n",
    "    #Runs Scored\n",
    "    runs_tag = spex.find_all(attrs = {'data-stat' : 'R'})\n",
    "    runs = [t.text for t in runs_tag]\n",
    "    delete_let(runs, 'R')\n",
    "    runs_f.extend(runs)\n",
    "#     # print(runs)\n",
    "\n",
    "    #Hits\n",
    "    hits_tag = spex.find_all(attrs = {'data-stat' : 'H'})\n",
    "    hits = [t.text for t in hits_tag]\n",
    "    delete_let(hits, 'H')\n",
    "    hits_f.extend(hits)\n",
    "#     # print(hits)\n",
    "\n",
    "    #Doubles Hit\n",
    "    doubles_tag = spex.find_all(attrs = {'data-stat' : '2B'})\n",
    "    doubles = [t.text for t in doubles_tag]\n",
    "    delete_let(doubles, '2B')\n",
    "    doubles_f.extend(doubles)\n",
    "#     # print(doubles)\n",
    "\n",
    "    #Home Runs\n",
    "    homeruns_tag = spex.find_all(attrs = {'data-stat' : 'HR'})\n",
    "    homeruns = [t.text for t in homeruns_tag]\n",
    "    delete_let(homeruns, 'HR')\n",
    "    homeruns_f.extend(homeruns)\n",
    "#     # print(homeruns)\n",
    "\n",
    "    #Runs Batted In\n",
    "    rbi_tag = spex.find_all(attrs = {'data-stat' : 'RBI'})\n",
    "    rbi = [t.text for t in rbi_tag]\n",
    "    delete_let(rbi, 'RBI')\n",
    "    rbi_f.extend(rbi)\n",
    "#     print(rbi)\n",
    "\n",
    "    #Strikeouts\n",
    "    so_tag = spex.find_all(attrs = {'data-stat' : 'SO'})\n",
    "    so = [t.text for t in so_tag]\n",
    "    delete_let(so, 'SO')\n",
    "    so_f.extend(so)\n",
    "#     # print(so)\n",
    "\n",
    "    #Bases on Balls\n",
    "    bb_tag = spex.find_all(attrs = {'data-stat' : 'BB'})\n",
    "    bb = [t.text for t in bb_tag]\n",
    "    delete_let(bb, 'BB')\n",
    "    bb_f.extend(bb)\n",
    "#     # print(bb)\n",
    "\n",
    "    #Batting Averages - target\n",
    "    batting_avg_tag = spex.find_all(attrs = {'data-stat' : 'batting_avg'})\n",
    "    batting_avg = [t.text for t in batting_avg_tag]\n",
    "    delete_let(batting_avg, 'BA')\n",
    "    ba_f.extend(batting_avg)\n",
    "#     print(batting_avg)\n",
    "\n",
    "\n",
    "    \n"
   ]
  },
  {
   "cell_type": "code",
   "execution_count": null,
   "id": "54748b0b",
   "metadata": {},
   "outputs": [],
   "source": [
    "## Cleaning at_bat data to make it standard\n",
    "\n",
    "for i in range(0, len(at_bat_f)):\n",
    "    if at_bat_f[i] == '':\n",
    "        at_bat_f[i] = 'n/a'\n",
    "\n",
    "# print(at_bat_f)"
   ]
  },
  {
   "cell_type": "code",
   "execution_count": 44,
   "id": "e30723fb",
   "metadata": {},
   "outputs": [],
   "source": [
    "mlb_df = pd.DataFrame(list(zip(age_f, game_played_f, pa_f, at_bat_f, \n",
    "                              runs_f, hits_f, doubles_f, homeruns_f, rbi_f,\n",
    "                              so_f, bb_f, ba_f)), \n",
    "                      columns = ['Age', 'Game_Played', 'PA', 'At_Bat',\n",
    "                                'Run', 'Hit', 'Double', 'Homerun', 'RBI',\n",
    "                                'SO', 'BB', 'BA'])"
   ]
  },
  {
   "cell_type": "code",
   "execution_count": 45,
   "id": "de4ad876",
   "metadata": {
    "scrolled": true
   },
   "outputs": [
    {
     "name": "stdout",
     "output_type": "stream",
     "text": [
      "<class 'pandas.core.frame.DataFrame'>\n",
      "RangeIndex: 24483 entries, 0 to 24482\n",
      "Data columns (total 12 columns):\n",
      " #   Column       Non-Null Count  Dtype \n",
      "---  ------       --------------  ----- \n",
      " 0   Age          24483 non-null  object\n",
      " 1   Game_Played  24483 non-null  object\n",
      " 2   PA           24483 non-null  object\n",
      " 3   At_Bat       24483 non-null  object\n",
      " 4   Run          24483 non-null  object\n",
      " 5   Hit          24483 non-null  object\n",
      " 6   Double       24483 non-null  object\n",
      " 7   Homerun      24483 non-null  object\n",
      " 8   RBI          24483 non-null  object\n",
      " 9   SO           24483 non-null  object\n",
      " 10  BB           24483 non-null  object\n",
      " 11  BA           24483 non-null  object\n",
      "dtypes: object(12)\n",
      "memory usage: 2.2+ MB\n"
     ]
    }
   ],
   "source": [
    "# mlb_df.head()\n",
    "mlb_df.info()"
   ]
  },
  {
   "cell_type": "code",
   "execution_count": 46,
   "id": "b6f2a5c8",
   "metadata": {},
   "outputs": [
    {
     "ename": "ValueError",
     "evalue": "invalid literal for int() with base 10: ''",
     "output_type": "error",
     "traceback": [
      "\u001b[0;31m---------------------------------------------------------------------------\u001b[0m",
      "\u001b[0;31mValueError\u001b[0m                                Traceback (most recent call last)",
      "\u001b[0;32m/tmp/ipykernel_7615/1506332205.py\u001b[0m in \u001b[0;36m<cell line: 7>\u001b[0;34m()\u001b[0m\n\u001b[1;32m      5\u001b[0m \u001b[0;31m# mlb_df.info()\u001b[0m\u001b[0;34m\u001b[0m\u001b[0;34m\u001b[0m\u001b[0m\n\u001b[1;32m      6\u001b[0m \u001b[0;34m\u001b[0m\u001b[0m\n\u001b[0;32m----> 7\u001b[0;31m \u001b[0mmlb_df\u001b[0m\u001b[0;34m[\u001b[0m\u001b[0;34m'At_Bat'\u001b[0m\u001b[0;34m]\u001b[0m \u001b[0;34m=\u001b[0m \u001b[0mmlb_df\u001b[0m\u001b[0;34m[\u001b[0m\u001b[0;34m'At_Bat'\u001b[0m\u001b[0;34m]\u001b[0m\u001b[0;34m.\u001b[0m\u001b[0mastype\u001b[0m\u001b[0;34m(\u001b[0m\u001b[0mint\u001b[0m\u001b[0;34m)\u001b[0m\u001b[0;34m\u001b[0m\u001b[0;34m\u001b[0m\u001b[0m\n\u001b[0m\u001b[1;32m      8\u001b[0m \u001b[0;34m\u001b[0m\u001b[0m\n\u001b[1;32m      9\u001b[0m \u001b[0mmlb_df\u001b[0m \u001b[0;34m=\u001b[0m \u001b[0mmlb_df\u001b[0m\u001b[0;34m.\u001b[0m\u001b[0mloc\u001b[0m\u001b[0;34m[\u001b[0m\u001b[0mmlb_df\u001b[0m\u001b[0;34m[\u001b[0m\u001b[0;34m'At_Bat'\u001b[0m\u001b[0;34m]\u001b[0m \u001b[0;34m>=\u001b[0m \u001b[0;36m162\u001b[0m\u001b[0;34m]\u001b[0m\u001b[0;34m\u001b[0m\u001b[0;34m\u001b[0m\u001b[0m\n",
      "\u001b[0;32m~/anaconda3/envs/metis/lib/python3.9/site-packages/pandas/core/generic.py\u001b[0m in \u001b[0;36mastype\u001b[0;34m(self, dtype, copy, errors)\u001b[0m\n\u001b[1;32m   5918\u001b[0m         \u001b[0;32melse\u001b[0m\u001b[0;34m:\u001b[0m\u001b[0;34m\u001b[0m\u001b[0;34m\u001b[0m\u001b[0m\n\u001b[1;32m   5919\u001b[0m             \u001b[0;31m# else, only a single dtype is given\u001b[0m\u001b[0;34m\u001b[0m\u001b[0;34m\u001b[0m\u001b[0m\n\u001b[0;32m-> 5920\u001b[0;31m             \u001b[0mnew_data\u001b[0m \u001b[0;34m=\u001b[0m \u001b[0mself\u001b[0m\u001b[0;34m.\u001b[0m\u001b[0m_mgr\u001b[0m\u001b[0;34m.\u001b[0m\u001b[0mastype\u001b[0m\u001b[0;34m(\u001b[0m\u001b[0mdtype\u001b[0m\u001b[0;34m=\u001b[0m\u001b[0mdtype\u001b[0m\u001b[0;34m,\u001b[0m \u001b[0mcopy\u001b[0m\u001b[0;34m=\u001b[0m\u001b[0mcopy\u001b[0m\u001b[0;34m,\u001b[0m \u001b[0merrors\u001b[0m\u001b[0;34m=\u001b[0m\u001b[0merrors\u001b[0m\u001b[0;34m)\u001b[0m\u001b[0;34m\u001b[0m\u001b[0;34m\u001b[0m\u001b[0m\n\u001b[0m\u001b[1;32m   5921\u001b[0m             \u001b[0;32mreturn\u001b[0m \u001b[0mself\u001b[0m\u001b[0;34m.\u001b[0m\u001b[0m_constructor\u001b[0m\u001b[0;34m(\u001b[0m\u001b[0mnew_data\u001b[0m\u001b[0;34m)\u001b[0m\u001b[0;34m.\u001b[0m\u001b[0m__finalize__\u001b[0m\u001b[0;34m(\u001b[0m\u001b[0mself\u001b[0m\u001b[0;34m,\u001b[0m \u001b[0mmethod\u001b[0m\u001b[0;34m=\u001b[0m\u001b[0;34m\"astype\"\u001b[0m\u001b[0;34m)\u001b[0m\u001b[0;34m\u001b[0m\u001b[0;34m\u001b[0m\u001b[0m\n\u001b[1;32m   5922\u001b[0m \u001b[0;34m\u001b[0m\u001b[0m\n",
      "\u001b[0;32m~/anaconda3/envs/metis/lib/python3.9/site-packages/pandas/core/internals/managers.py\u001b[0m in \u001b[0;36mastype\u001b[0;34m(self, dtype, copy, errors)\u001b[0m\n\u001b[1;32m    417\u001b[0m \u001b[0;34m\u001b[0m\u001b[0m\n\u001b[1;32m    418\u001b[0m     \u001b[0;32mdef\u001b[0m \u001b[0mastype\u001b[0m\u001b[0;34m(\u001b[0m\u001b[0mself\u001b[0m\u001b[0;34m:\u001b[0m \u001b[0mT\u001b[0m\u001b[0;34m,\u001b[0m \u001b[0mdtype\u001b[0m\u001b[0;34m,\u001b[0m \u001b[0mcopy\u001b[0m\u001b[0;34m:\u001b[0m \u001b[0mbool\u001b[0m \u001b[0;34m=\u001b[0m \u001b[0;32mFalse\u001b[0m\u001b[0;34m,\u001b[0m \u001b[0merrors\u001b[0m\u001b[0;34m:\u001b[0m \u001b[0mstr\u001b[0m \u001b[0;34m=\u001b[0m \u001b[0;34m\"raise\"\u001b[0m\u001b[0;34m)\u001b[0m \u001b[0;34m->\u001b[0m \u001b[0mT\u001b[0m\u001b[0;34m:\u001b[0m\u001b[0;34m\u001b[0m\u001b[0;34m\u001b[0m\u001b[0m\n\u001b[0;32m--> 419\u001b[0;31m         \u001b[0;32mreturn\u001b[0m \u001b[0mself\u001b[0m\u001b[0;34m.\u001b[0m\u001b[0mapply\u001b[0m\u001b[0;34m(\u001b[0m\u001b[0;34m\"astype\"\u001b[0m\u001b[0;34m,\u001b[0m \u001b[0mdtype\u001b[0m\u001b[0;34m=\u001b[0m\u001b[0mdtype\u001b[0m\u001b[0;34m,\u001b[0m \u001b[0mcopy\u001b[0m\u001b[0;34m=\u001b[0m\u001b[0mcopy\u001b[0m\u001b[0;34m,\u001b[0m \u001b[0merrors\u001b[0m\u001b[0;34m=\u001b[0m\u001b[0merrors\u001b[0m\u001b[0;34m)\u001b[0m\u001b[0;34m\u001b[0m\u001b[0;34m\u001b[0m\u001b[0m\n\u001b[0m\u001b[1;32m    420\u001b[0m \u001b[0;34m\u001b[0m\u001b[0m\n\u001b[1;32m    421\u001b[0m     def convert(\n",
      "\u001b[0;32m~/anaconda3/envs/metis/lib/python3.9/site-packages/pandas/core/internals/managers.py\u001b[0m in \u001b[0;36mapply\u001b[0;34m(self, f, align_keys, ignore_failures, **kwargs)\u001b[0m\n\u001b[1;32m    302\u001b[0m                     \u001b[0mapplied\u001b[0m \u001b[0;34m=\u001b[0m \u001b[0mb\u001b[0m\u001b[0;34m.\u001b[0m\u001b[0mapply\u001b[0m\u001b[0;34m(\u001b[0m\u001b[0mf\u001b[0m\u001b[0;34m,\u001b[0m \u001b[0;34m**\u001b[0m\u001b[0mkwargs\u001b[0m\u001b[0;34m)\u001b[0m\u001b[0;34m\u001b[0m\u001b[0;34m\u001b[0m\u001b[0m\n\u001b[1;32m    303\u001b[0m                 \u001b[0;32melse\u001b[0m\u001b[0;34m:\u001b[0m\u001b[0;34m\u001b[0m\u001b[0;34m\u001b[0m\u001b[0m\n\u001b[0;32m--> 304\u001b[0;31m                     \u001b[0mapplied\u001b[0m \u001b[0;34m=\u001b[0m \u001b[0mgetattr\u001b[0m\u001b[0;34m(\u001b[0m\u001b[0mb\u001b[0m\u001b[0;34m,\u001b[0m \u001b[0mf\u001b[0m\u001b[0;34m)\u001b[0m\u001b[0;34m(\u001b[0m\u001b[0;34m**\u001b[0m\u001b[0mkwargs\u001b[0m\u001b[0;34m)\u001b[0m\u001b[0;34m\u001b[0m\u001b[0;34m\u001b[0m\u001b[0m\n\u001b[0m\u001b[1;32m    305\u001b[0m             \u001b[0;32mexcept\u001b[0m \u001b[0;34m(\u001b[0m\u001b[0mTypeError\u001b[0m\u001b[0;34m,\u001b[0m \u001b[0mNotImplementedError\u001b[0m\u001b[0;34m)\u001b[0m\u001b[0;34m:\u001b[0m\u001b[0;34m\u001b[0m\u001b[0;34m\u001b[0m\u001b[0m\n\u001b[1;32m    306\u001b[0m                 \u001b[0;32mif\u001b[0m \u001b[0;32mnot\u001b[0m \u001b[0mignore_failures\u001b[0m\u001b[0;34m:\u001b[0m\u001b[0;34m\u001b[0m\u001b[0;34m\u001b[0m\u001b[0m\n",
      "\u001b[0;32m~/anaconda3/envs/metis/lib/python3.9/site-packages/pandas/core/internals/blocks.py\u001b[0m in \u001b[0;36mastype\u001b[0;34m(self, dtype, copy, errors)\u001b[0m\n\u001b[1;32m    578\u001b[0m         \u001b[0mvalues\u001b[0m \u001b[0;34m=\u001b[0m \u001b[0mself\u001b[0m\u001b[0;34m.\u001b[0m\u001b[0mvalues\u001b[0m\u001b[0;34m\u001b[0m\u001b[0;34m\u001b[0m\u001b[0m\n\u001b[1;32m    579\u001b[0m \u001b[0;34m\u001b[0m\u001b[0m\n\u001b[0;32m--> 580\u001b[0;31m         \u001b[0mnew_values\u001b[0m \u001b[0;34m=\u001b[0m \u001b[0mastype_array_safe\u001b[0m\u001b[0;34m(\u001b[0m\u001b[0mvalues\u001b[0m\u001b[0;34m,\u001b[0m \u001b[0mdtype\u001b[0m\u001b[0;34m,\u001b[0m \u001b[0mcopy\u001b[0m\u001b[0;34m=\u001b[0m\u001b[0mcopy\u001b[0m\u001b[0;34m,\u001b[0m \u001b[0merrors\u001b[0m\u001b[0;34m=\u001b[0m\u001b[0merrors\u001b[0m\u001b[0;34m)\u001b[0m\u001b[0;34m\u001b[0m\u001b[0;34m\u001b[0m\u001b[0m\n\u001b[0m\u001b[1;32m    581\u001b[0m \u001b[0;34m\u001b[0m\u001b[0m\n\u001b[1;32m    582\u001b[0m         \u001b[0mnew_values\u001b[0m \u001b[0;34m=\u001b[0m \u001b[0mmaybe_coerce_values\u001b[0m\u001b[0;34m(\u001b[0m\u001b[0mnew_values\u001b[0m\u001b[0;34m)\u001b[0m\u001b[0;34m\u001b[0m\u001b[0;34m\u001b[0m\u001b[0m\n",
      "\u001b[0;32m~/anaconda3/envs/metis/lib/python3.9/site-packages/pandas/core/dtypes/cast.py\u001b[0m in \u001b[0;36mastype_array_safe\u001b[0;34m(values, dtype, copy, errors)\u001b[0m\n\u001b[1;32m   1290\u001b[0m \u001b[0;34m\u001b[0m\u001b[0m\n\u001b[1;32m   1291\u001b[0m     \u001b[0;32mtry\u001b[0m\u001b[0;34m:\u001b[0m\u001b[0;34m\u001b[0m\u001b[0;34m\u001b[0m\u001b[0m\n\u001b[0;32m-> 1292\u001b[0;31m         \u001b[0mnew_values\u001b[0m \u001b[0;34m=\u001b[0m \u001b[0mastype_array\u001b[0m\u001b[0;34m(\u001b[0m\u001b[0mvalues\u001b[0m\u001b[0;34m,\u001b[0m \u001b[0mdtype\u001b[0m\u001b[0;34m,\u001b[0m \u001b[0mcopy\u001b[0m\u001b[0;34m=\u001b[0m\u001b[0mcopy\u001b[0m\u001b[0;34m)\u001b[0m\u001b[0;34m\u001b[0m\u001b[0;34m\u001b[0m\u001b[0m\n\u001b[0m\u001b[1;32m   1293\u001b[0m     \u001b[0;32mexcept\u001b[0m \u001b[0;34m(\u001b[0m\u001b[0mValueError\u001b[0m\u001b[0;34m,\u001b[0m \u001b[0mTypeError\u001b[0m\u001b[0;34m)\u001b[0m\u001b[0;34m:\u001b[0m\u001b[0;34m\u001b[0m\u001b[0;34m\u001b[0m\u001b[0m\n\u001b[1;32m   1294\u001b[0m         \u001b[0;31m# e.g. astype_nansafe can fail on object-dtype of strings\u001b[0m\u001b[0;34m\u001b[0m\u001b[0;34m\u001b[0m\u001b[0m\n",
      "\u001b[0;32m~/anaconda3/envs/metis/lib/python3.9/site-packages/pandas/core/dtypes/cast.py\u001b[0m in \u001b[0;36mastype_array\u001b[0;34m(values, dtype, copy)\u001b[0m\n\u001b[1;32m   1235\u001b[0m \u001b[0;34m\u001b[0m\u001b[0m\n\u001b[1;32m   1236\u001b[0m     \u001b[0;32melse\u001b[0m\u001b[0;34m:\u001b[0m\u001b[0;34m\u001b[0m\u001b[0;34m\u001b[0m\u001b[0m\n\u001b[0;32m-> 1237\u001b[0;31m         \u001b[0mvalues\u001b[0m \u001b[0;34m=\u001b[0m \u001b[0mastype_nansafe\u001b[0m\u001b[0;34m(\u001b[0m\u001b[0mvalues\u001b[0m\u001b[0;34m,\u001b[0m \u001b[0mdtype\u001b[0m\u001b[0;34m,\u001b[0m \u001b[0mcopy\u001b[0m\u001b[0;34m=\u001b[0m\u001b[0mcopy\u001b[0m\u001b[0;34m)\u001b[0m\u001b[0;34m\u001b[0m\u001b[0;34m\u001b[0m\u001b[0m\n\u001b[0m\u001b[1;32m   1238\u001b[0m \u001b[0;34m\u001b[0m\u001b[0m\n\u001b[1;32m   1239\u001b[0m     \u001b[0;31m# in pandas we don't store numpy str dtypes, so convert to object\u001b[0m\u001b[0;34m\u001b[0m\u001b[0;34m\u001b[0m\u001b[0m\n",
      "\u001b[0;32m~/anaconda3/envs/metis/lib/python3.9/site-packages/pandas/core/dtypes/cast.py\u001b[0m in \u001b[0;36mastype_nansafe\u001b[0;34m(arr, dtype, copy, skipna)\u001b[0m\n\u001b[1;32m   1152\u001b[0m         \u001b[0;31m# work around NumPy brokenness, #1987\u001b[0m\u001b[0;34m\u001b[0m\u001b[0;34m\u001b[0m\u001b[0m\n\u001b[1;32m   1153\u001b[0m         \u001b[0;32mif\u001b[0m \u001b[0mnp\u001b[0m\u001b[0;34m.\u001b[0m\u001b[0missubdtype\u001b[0m\u001b[0;34m(\u001b[0m\u001b[0mdtype\u001b[0m\u001b[0;34m.\u001b[0m\u001b[0mtype\u001b[0m\u001b[0;34m,\u001b[0m \u001b[0mnp\u001b[0m\u001b[0;34m.\u001b[0m\u001b[0minteger\u001b[0m\u001b[0;34m)\u001b[0m\u001b[0;34m:\u001b[0m\u001b[0;34m\u001b[0m\u001b[0;34m\u001b[0m\u001b[0m\n\u001b[0;32m-> 1154\u001b[0;31m             \u001b[0;32mreturn\u001b[0m \u001b[0mlib\u001b[0m\u001b[0;34m.\u001b[0m\u001b[0mastype_intsafe\u001b[0m\u001b[0;34m(\u001b[0m\u001b[0marr\u001b[0m\u001b[0;34m,\u001b[0m \u001b[0mdtype\u001b[0m\u001b[0;34m)\u001b[0m\u001b[0;34m\u001b[0m\u001b[0;34m\u001b[0m\u001b[0m\n\u001b[0m\u001b[1;32m   1155\u001b[0m \u001b[0;34m\u001b[0m\u001b[0m\n\u001b[1;32m   1156\u001b[0m         \u001b[0;31m# if we have a datetime/timedelta array of objects\u001b[0m\u001b[0;34m\u001b[0m\u001b[0;34m\u001b[0m\u001b[0m\n",
      "\u001b[0;32m~/anaconda3/envs/metis/lib/python3.9/site-packages/pandas/_libs/lib.pyx\u001b[0m in \u001b[0;36mpandas._libs.lib.astype_intsafe\u001b[0;34m()\u001b[0m\n",
      "\u001b[0;31mValueError\u001b[0m: invalid literal for int() with base 10: ''"
     ]
    }
   ],
   "source": [
    "#data cleaning\n",
    "\n",
    "mlb_df['At_Bat']\n",
    "mlb_df = mlb_df.loc[mlb_df['At_Bat'] != 'n/a']\n",
    "# mlb_df.info()\n",
    "\n",
    "mlb_df['At_Bat'] = mlb_df['At_Bat'].astype(int)\n",
    "\n",
    "mlb_df = mlb_df.loc[mlb_df['At_Bat'] >= 162]\n",
    "mlb_df.head()"
   ]
  },
  {
   "cell_type": "code",
   "execution_count": 24,
   "id": "caf33fe3",
   "metadata": {},
   "outputs": [
    {
     "data": {
      "text/plain": [
       "array([[<AxesSubplot:title={'center':'At_Bat'}>]], dtype=object)"
      ]
     },
     "execution_count": 24,
     "metadata": {},
     "output_type": "execute_result"
    },
    {
     "data": {
      "image/png": "[encoded data removed]",
      "text/plain": [
       "<Figure size 432x288 with 1 Axes>"
      ]
     },
     "metadata": {
      "needs_background": "light"
     },
     "output_type": "display_data"
    }
   ],
   "source": [
    "## Histogram of at_bat\n",
    "mlb_df.hist(column = ['At_Bat'])"
   ]
  },
  {
   "cell_type": "code",
   "execution_count": 25,
   "id": "381e2f9a",
   "metadata": {
    "scrolled": true
   },
   "outputs": [
    {
     "name": "stdout",
     "output_type": "stream",
     "text": [
      "<class 'pandas.core.frame.DataFrame'>\n",
      "Int64Index: 3118 entries, 0 to 13428\n",
      "Data columns (total 12 columns):\n",
      " #   Column       Non-Null Count  Dtype  \n",
      "---  ------       --------------  -----  \n",
      " 0   Age          3118 non-null   int64  \n",
      " 1   Game_Played  3118 non-null   int64  \n",
      " 2   PA           3118 non-null   int64  \n",
      " 3   At_Bat       3118 non-null   int64  \n",
      " 4   Run          3118 non-null   int64  \n",
      " 5   Hit          3118 non-null   int64  \n",
      " 6   Double       3118 non-null   int64  \n",
      " 7   Homerun      3118 non-null   int64  \n",
      " 8   RBI          3118 non-null   int64  \n",
      " 9   SO           3118 non-null   int64  \n",
      " 10  BB           3118 non-null   int64  \n",
      " 11  BA           3118 non-null   float64\n",
      "dtypes: float64(1), int64(11)\n",
      "memory usage: 316.7 KB\n"
     ]
    }
   ],
   "source": [
    "#Changing data typep of each columns\n",
    "\n",
    "mlb_df['Age'] = mlb_df['Age'].astype(int)\n",
    "mlb_df['Game_Played'] = mlb_df['Game_Played'].astype(int)\n",
    "mlb_df['PA'] = mlb_df['PA'].astype(int)\n",
    "mlb_df['Run'] = mlb_df['Run'].astype(int)\n",
    "mlb_df['Hit'] = mlb_df['Hit'].astype(int)\n",
    "mlb_df['Double'] = mlb_df['Double'].astype(int)\n",
    "mlb_df['Homerun'] = mlb_df['Homerun'].astype(int)\n",
    "mlb_df['RBI'] = mlb_df['RBI'].astype(int)\n",
    "mlb_df['SO'] = mlb_df['SO'].astype(int)\n",
    "mlb_df['BB'] = mlb_df['BB'].astype(int)\n",
    "mlb_df['BA'] = mlb_df['BA'].astype(float)\n",
    "\n",
    "mlb_df.info()"
   ]
  },
  {
   "cell_type": "code",
   "execution_count": 15,
   "id": "040dfa64",
   "metadata": {
    "scrolled": true
   },
   "outputs": [
    {
     "data": {
      "text/plain": [
       "Text(0.5, 1.0, 'Correlation Heat Map')"
      ]
     },
     "execution_count": 15,
     "metadata": {},
     "output_type": "execute_result"
    },
    {
     "data": {
      "image/png": "[encoded data removed]",
      "text/plain": [
       "<Figure size 1080x1080 with 2 Axes>"
      ]
     },
     "metadata": {
      "needs_background": "light"
     },
     "output_type": "display_data"
    }
   ],
   "source": [
    "### Heatmap to find the correlation with targaet\n",
    "\n",
    "fig, ax = plt.subplots(figsize = (15, 15))\n",
    "sns.heatmap(mlb_df.corr(), cmap = 'seismic', vmin = -1, ax = ax).set_title(\"Correlation Heat Map\")"
   ]
  },
  {
   "cell_type": "markdown",
   "id": "d0e6bedf",
   "metadata": {},
   "source": []
  },
  {
   "cell_type": "code",
   "execution_count": null,
   "id": "0915712b",
   "metadata": {},
   "outputs": [],
   "source": []
  }
 ],
 "metadata": {
  "kernelspec": {
   "display_name": "Python 3 (ipykernel)",
   "language": "python",
   "name": "python3"
  },
  "language_info": {
   "codemirror_mode": {
    "name": "ipython",
    "version": 3
   },
   "file_extension": ".py",
   "mimetype": "text/x-python",
   "name": "python",
   "nbconvert_exporter": "python",
   "pygments_lexer": "ipython3",
   "version": "3.9.10"
  }
 },
 "nbformat": 4,
 "nbformat_minor": 5
}
