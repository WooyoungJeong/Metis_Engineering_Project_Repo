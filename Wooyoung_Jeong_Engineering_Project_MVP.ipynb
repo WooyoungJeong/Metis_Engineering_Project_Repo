{
 "cells": [
  {
   "cell_type": "code",
   "execution_count": 9,
   "id": "e9342707",
   "metadata": {},
   "outputs": [],
   "source": [
    "from __future__ import division, print_function"
   ]
  },
  {
   "cell_type": "code",
   "execution_count": 20,
   "id": "e7a4d757",
   "metadata": {},
   "outputs": [],
   "source": [
    "import requests, bs4\n",
    "from bs4 import BeautifulSoup as bs\n",
    "import pandas as pd\n",
    "from time import sleep\n",
    "import seaborn as sns\n",
    "import statsmodels.api as sm\n",
    "import matplotlib.pyplot as plt\n",
    "import numpy as np\n",
    "from sklearn.linear_model import LinearRegression\n",
    "from sklearn.model_selection import (cross_val_score, train_test_split, \n",
    "                                     KFold, GridSearchCV)\n",
    "import streamlit as st"
   ]
  },
  {
   "cell_type": "code",
   "execution_count": 11,
   "id": "42d5f0a8",
   "metadata": {},
   "outputs": [
    {
     "name": "stdout",
     "output_type": "stream",
     "text": [
      "[1998, 1999, 2000, 2001, 2002, 2003, 2004, 2005, 2006, 2007, 2008, 2009, 2010, 2011, 2012, 2013, 2014, 2015, 2016, 2017, 2018, 2019, 2020, 2021]\n"
     ]
    }
   ],
   "source": [
    "url = 'https://www.baseball-reference.com/teams/{}/{}'\n",
    "team_list = ['ATL', 'PHI', 'NYM', 'MIA', 'WSN', 'MIL', 'STL', 'CIN', 'CHC',\n",
    "            'PIT', 'SFG', 'LAD', 'SDP', 'COL', 'ARI', 'TBR', 'NYY', 'BOS',\n",
    "            'TOR', 'BAL', 'CHW', 'CLE', 'DET', 'KCR', 'MIN', 'HOU', 'SEA', \n",
    "            'OAK', 'LAA', 'TEX']\n",
    "url_list = []\n",
    "\n",
    "year_list = [*range(1998, 2022, 1)]\n",
    "print(year_list)\n",
    "year_list = [str(x) for x in year_list]\n",
    "\n",
    "for t in year_list:\n",
    "    url = 'https://www.baseball-reference.com/teams//' + t + '.shtml'\n",
    "    for i in team_list:\n",
    "\n",
    "\n",
    "        ## MON to WSN\n",
    "        if i == 'WSN' and int(t) < 2005:\n",
    "            i = 'MON'\n",
    "            \n",
    "        ## TBD to TBR\n",
    "        if i == 'TBR' and int(t) < 2008:\n",
    "            i ='TBD'\n",
    "        \n",
    "        ## FLA to MIA\n",
    "        if i == 'MIA' and int(t) < 2012:\n",
    "            i = 'FLA'\n",
    "        \n",
    "        ## ANA to LAA\n",
    "        if i == 'LAA' and int(t) < 2005:\n",
    "            i = 'ANA'\n",
    "            \n",
    "        \n",
    "        team_temp = url[:41] + i + url[41:]\n",
    "        url_list.append(team_temp)"
   ]
  },
  {
   "cell_type": "code",
   "execution_count": 12,
   "id": "1ddd8500",
   "metadata": {},
   "outputs": [],
   "source": [
    "def delete_let(a, b):\n",
    "    num_let = a.count(b)\n",
    "    i = 0\n",
    "    while i < num_let:\n",
    "        a.remove(b)\n",
    "        i += 1\n",
    "    return a\n",
    "\n"
   ]
  },
  {
   "cell_type": "code",
   "execution_count": 13,
   "id": "a751339b",
   "metadata": {
    "scrolled": true
   },
   "outputs": [],
   "source": [
    "player_list = []\n",
    "\n",
    "age_f = []\n",
    "game_played_f = []\n",
    "pa_f = []\n",
    "at_bat_f = []\n",
    "runs_f = []\n",
    "hits_f = []\n",
    "doubles_f = []\n",
    "homeruns_f = []\n",
    "so_f = []\n",
    "bb_f = []\n",
    "ba_f = []\n",
    "rbi_f = []\n",
    "\n",
    "\n",
    "for u in url_list:\n",
    "    soup = bs(requests.get(u).text)\n",
    "\n",
    "    spex = soup.find('tbody')\n",
    "\n",
    "    #age\n",
    "    age_tag = spex.find_all(attrs = {'data-stat' : 'age'})\n",
    "    age = [t.text for t in age_tag]\n",
    "    delete_let(age, 'Age')\n",
    "    age_f.extend(age)\n",
    "#     print(age)\n",
    "\n",
    "\n",
    "    #Game played\n",
    "    game_played_tag = spex.find_all(attrs = {'data-stat' : 'G'})\n",
    "    game_played = [t.text for t in game_played_tag]\n",
    "    delete_let(game_played, 'G')\n",
    "    game_played_f.extend(game_played)\n",
    "#     print(game_played)\n",
    "\n",
    "    #Plate Appearances\n",
    "    pa_tag = spex.find_all(attrs = {'data-stat' : 'PA'})\n",
    "    pa = [t.text for t in pa_tag]\n",
    "    delete_let(pa, 'PA')\n",
    "    pa_f.extend(pa)\n",
    "#     print(pa)\n",
    "\n",
    "    #At Bats\n",
    "    at_bat_tag = spex.find_all(attrs = {'data-stat' : 'AB'})\n",
    "    at_bat = [t.text for t in at_bat_tag]\n",
    "    delete_let(at_bat, 'AB')\n",
    "    at_bat_f.extend(at_bat)\n",
    "#     print(at_bat)\n",
    "\n",
    "    #Runs Scored\n",
    "    runs_tag = spex.find_all(attrs = {'data-stat' : 'R'})\n",
    "    runs = [t.text for t in runs_tag]\n",
    "    delete_let(runs, 'R')\n",
    "    runs_f.extend(runs)\n",
    "#     # print(runs)\n",
    "\n",
    "    #Hits\n",
    "    hits_tag = spex.find_all(attrs = {'data-stat' : 'H'})\n",
    "    hits = [t.text for t in hits_tag]\n",
    "    delete_let(hits, 'H')\n",
    "    hits_f.extend(hits)\n",
    "#     # print(hits)\n",
    "\n",
    "    #Doubles Hit\n",
    "    doubles_tag = spex.find_all(attrs = {'data-stat' : '2B'})\n",
    "    doubles = [t.text for t in doubles_tag]\n",
    "    delete_let(doubles, '2B')\n",
    "    doubles_f.extend(doubles)\n",
    "#     # print(doubles)\n",
    "\n",
    "    #Home Runs\n",
    "    homeruns_tag = spex.find_all(attrs = {'data-stat' : 'HR'})\n",
    "    homeruns = [t.text for t in homeruns_tag]\n",
    "    delete_let(homeruns, 'HR')\n",
    "    homeruns_f.extend(homeruns)\n",
    "#     # print(homeruns)\n",
    "\n",
    "    #Runs Batted In\n",
    "    rbi_tag = spex.find_all(attrs = {'data-stat' : 'RBI'})\n",
    "    rbi = [t.text for t in rbi_tag]\n",
    "    delete_let(rbi, 'RBI')\n",
    "    rbi_f.extend(rbi)\n",
    "#     print(rbi)\n",
    "\n",
    "    #Strikeouts\n",
    "    so_tag = spex.find_all(attrs = {'data-stat' : 'SO'})\n",
    "    so = [t.text for t in so_tag]\n",
    "    delete_let(so, 'SO')\n",
    "    so_f.extend(so)\n",
    "#     # print(so)\n",
    "\n",
    "    #Bases on Balls\n",
    "    bb_tag = spex.find_all(attrs = {'data-stat' : 'BB'})\n",
    "    bb = [t.text for t in bb_tag]\n",
    "    delete_let(bb, 'BB')\n",
    "    bb_f.extend(bb)\n",
    "#     # print(bb)\n",
    "\n",
    "    #Batting Averages - target\n",
    "    batting_avg_tag = spex.find_all(attrs = {'data-stat' : 'batting_avg'})\n",
    "    batting_avg = [t.text for t in batting_avg_tag]\n",
    "    delete_let(batting_avg, 'BA')\n",
    "    ba_f.extend(batting_avg)\n",
    "#     print(batting_avg)\n",
    "\n",
    "\n",
    "    \n"
   ]
  },
  {
   "cell_type": "code",
   "execution_count": 14,
   "id": "54748b0b",
   "metadata": {},
   "outputs": [],
   "source": [
    "## Cleaning at_bat data to make it standard\n",
    "\n",
    "for i in range(0, len(at_bat_f)):\n",
    "    if at_bat_f[i] == '':\n",
    "        at_bat_f[i] = 'n/a'\n",
    "\n",
    "# print(at_bat_f)"
   ]
  },
  {
   "cell_type": "code",
   "execution_count": 15,
   "id": "e30723fb",
   "metadata": {},
   "outputs": [],
   "source": [
    "mlb_df = pd.DataFrame(list(zip(age_f, game_played_f, pa_f, at_bat_f, \n",
    "                              runs_f, hits_f, doubles_f, homeruns_f, rbi_f,\n",
    "                              so_f, bb_f, ba_f)), \n",
    "                      columns = ['Age', 'Game_Played', 'PA', 'At_Bat',\n",
    "                                'Run', 'Hit', 'Double', 'Homerun', 'RBI',\n",
    "                                'SO', 'BB', 'BA'])"
   ]
  },
  {
   "cell_type": "code",
   "execution_count": 16,
   "id": "de4ad876",
   "metadata": {
    "scrolled": true
   },
   "outputs": [
    {
     "name": "stdout",
     "output_type": "stream",
     "text": [
      "<class 'pandas.core.frame.DataFrame'>\n",
      "RangeIndex: 33831 entries, 0 to 33830\n",
      "Data columns (total 12 columns):\n",
      " #   Column       Non-Null Count  Dtype \n",
      "---  ------       --------------  ----- \n",
      " 0   Age          33831 non-null  object\n",
      " 1   Game_Played  33831 non-null  object\n",
      " 2   PA           33831 non-null  object\n",
      " 3   At_Bat       33831 non-null  object\n",
      " 4   Run          33831 non-null  object\n",
      " 5   Hit          33831 non-null  object\n",
      " 6   Double       33831 non-null  object\n",
      " 7   Homerun      33831 non-null  object\n",
      " 8   RBI          33831 non-null  object\n",
      " 9   SO           33831 non-null  object\n",
      " 10  BB           33831 non-null  object\n",
      " 11  BA           33831 non-null  object\n",
      "dtypes: object(12)\n",
      "memory usage: 3.1+ MB\n"
     ]
    }
   ],
   "source": [
    "# mlb_df.head()\n",
    "mlb_df.info()"
   ]
  },
  {
   "cell_type": "code",
   "execution_count": 17,
   "id": "b6f2a5c8",
   "metadata": {},
   "outputs": [
    {
     "data": {
      "text/html": [
       "<div>\n",
       "<style scoped>\n",
       "    .dataframe tbody tr th:only-of-type {\n",
       "        vertical-align: middle;\n",
       "    }\n",
       "\n",
       "    .dataframe tbody tr th {\n",
       "        vertical-align: top;\n",
       "    }\n",
       "\n",
       "    .dataframe thead th {\n",
       "        text-align: right;\n",
       "    }\n",
       "</style>\n",
       "<table border=\"1\" class=\"dataframe\">\n",
       "  <thead>\n",
       "    <tr style=\"text-align: right;\">\n",
       "      <th></th>\n",
       "      <th>Age</th>\n",
       "      <th>Game_Played</th>\n",
       "      <th>PA</th>\n",
       "      <th>At_Bat</th>\n",
       "      <th>Run</th>\n",
       "      <th>Hit</th>\n",
       "      <th>Double</th>\n",
       "      <th>Homerun</th>\n",
       "      <th>RBI</th>\n",
       "      <th>SO</th>\n",
       "      <th>BB</th>\n",
       "      <th>BA</th>\n",
       "    </tr>\n",
       "  </thead>\n",
       "  <tbody>\n",
       "    <tr>\n",
       "      <th>0</th>\n",
       "      <td>27</td>\n",
       "      <td>133</td>\n",
       "      <td>534</td>\n",
       "      <td>489</td>\n",
       "      <td>73</td>\n",
       "      <td>139</td>\n",
       "      <td>21</td>\n",
       "      <td>34</td>\n",
       "      <td>106</td>\n",
       "      <td>85</td>\n",
       "      <td>30</td>\n",
       "      <td>.284</td>\n",
       "    </tr>\n",
       "    <tr>\n",
       "      <th>1</th>\n",
       "      <td>37</td>\n",
       "      <td>153</td>\n",
       "      <td>648</td>\n",
       "      <td>555</td>\n",
       "      <td>103</td>\n",
       "      <td>169</td>\n",
       "      <td>27</td>\n",
       "      <td>44</td>\n",
       "      <td>121</td>\n",
       "      <td>146</td>\n",
       "      <td>63</td>\n",
       "      <td>.305</td>\n",
       "    </tr>\n",
       "    <tr>\n",
       "      <th>2</th>\n",
       "      <td>33</td>\n",
       "      <td>109</td>\n",
       "      <td>401</td>\n",
       "      <td>366</td>\n",
       "      <td>50</td>\n",
       "      <td>94</td>\n",
       "      <td>21</td>\n",
       "      <td>9</td>\n",
       "      <td>37</td>\n",
       "      <td>37</td>\n",
       "      <td>29</td>\n",
       "      <td>.257</td>\n",
       "    </tr>\n",
       "    <tr>\n",
       "      <th>3</th>\n",
       "      <td>34</td>\n",
       "      <td>96</td>\n",
       "      <td>424</td>\n",
       "      <td>347</td>\n",
       "      <td>64</td>\n",
       "      <td>97</td>\n",
       "      <td>18</td>\n",
       "      <td>0</td>\n",
       "      <td>27</td>\n",
       "      <td>53</td>\n",
       "      <td>59</td>\n",
       "      <td>.280</td>\n",
       "    </tr>\n",
       "    <tr>\n",
       "      <th>4</th>\n",
       "      <td>26</td>\n",
       "      <td>160</td>\n",
       "      <td>707</td>\n",
       "      <td>601</td>\n",
       "      <td>123</td>\n",
       "      <td>188</td>\n",
       "      <td>29</td>\n",
       "      <td>34</td>\n",
       "      <td>107</td>\n",
       "      <td>93</td>\n",
       "      <td>96</td>\n",
       "      <td>.313</td>\n",
       "    </tr>\n",
       "  </tbody>\n",
       "</table>\n",
       "</div>"
      ],
      "text/plain": [
       "  Age Game_Played   PA  At_Bat  Run  Hit Double Homerun  RBI   SO  BB    BA\n",
       "0  27         133  534     489   73  139     21      34  106   85  30  .284\n",
       "1  37         153  648     555  103  169     27      44  121  146  63  .305\n",
       "2  33         109  401     366   50   94     21       9   37   37  29  .257\n",
       "3  34          96  424     347   64   97     18       0   27   53  59  .280\n",
       "4  26         160  707     601  123  188     29      34  107   93  96  .313"
      ]
     },
     "execution_count": 17,
     "metadata": {},
     "output_type": "execute_result"
    }
   ],
   "source": [
    "#data cleaning\n",
    "\n",
    "mlb_df['At_Bat']\n",
    "mlb_df = mlb_df.loc[mlb_df['At_Bat'] != 'n/a']\n",
    "\n",
    "mlb_df['At_Bat'] = mlb_df['At_Bat'].astype(int)\n",
    "\n",
    "mlb_df = mlb_df.loc[mlb_df['At_Bat'] >= 162]"
   ]
  },
  {
   "cell_type": "code",
   "execution_count": 18,
   "id": "381e2f9a",
   "metadata": {},
   "outputs": [
    {
     "name": "stdout",
     "output_type": "stream",
     "text": [
      "<class 'pandas.core.frame.DataFrame'>\n",
      "Int64Index: 8562 entries, 0 to 33792\n",
      "Data columns (total 12 columns):\n",
      " #   Column       Non-Null Count  Dtype  \n",
      "---  ------       --------------  -----  \n",
      " 0   Age          8562 non-null   int64  \n",
      " 1   Game_Played  8562 non-null   int64  \n",
      " 2   PA           8562 non-null   int64  \n",
      " 3   At_Bat       8562 non-null   int64  \n",
      " 4   Run          8562 non-null   int64  \n",
      " 5   Hit          8562 non-null   int64  \n",
      " 6   Double       8562 non-null   int64  \n",
      " 7   Homerun      8562 non-null   int64  \n",
      " 8   RBI          8562 non-null   int64  \n",
      " 9   SO           8562 non-null   int64  \n",
      " 10  BB           8562 non-null   int64  \n",
      " 11  BA           8562 non-null   float64\n",
      "dtypes: float64(1), int64(11)\n",
      "memory usage: 869.6 KB\n"
     ]
    }
   ],
   "source": [
    "#Changing data typep of each columns\n",
    "\n",
    "mlb_df['Age'] = mlb_df['Age'].astype(int)\n",
    "mlb_df['Game_Played'] = mlb_df['Game_Played'].astype(int)\n",
    "mlb_df['PA'] = mlb_df['PA'].astype(int)\n",
    "mlb_df['Run'] = mlb_df['Run'].astype(int)\n",
    "mlb_df['Hit'] = mlb_df['Hit'].astype(int)\n",
    "mlb_df['Double'] = mlb_df['Double'].astype(int)\n",
    "mlb_df['Homerun'] = mlb_df['Homerun'].astype(int)\n",
    "mlb_df['RBI'] = mlb_df['RBI'].astype(int)\n",
    "mlb_df['SO'] = mlb_df['SO'].astype(int)\n",
    "mlb_df['BB'] = mlb_df['BB'].astype(int)\n",
    "mlb_df['BA'] = mlb_df['BA'].astype(float)\n",
    "\n",
    "mlb_df.info()"
   ]
  },
  {
   "cell_type": "code",
   "execution_count": 19,
   "id": "040dfa64",
   "metadata": {
    "collapsed": true
   },
   "outputs": [
    {
     "data": {
      "text/plain": [
       "Text(0.5, 1.0, 'Correlation Heat Map')"
      ]
     },
     "execution_count": 19,
     "metadata": {},
     "output_type": "execute_result"
    },
    {
     "data": {
      "image/png": "[encoded data removed]",
      "text/plain": [
       "<Figure size 1080x1080 with 2 Axes>"
      ]
     },
     "metadata": {
      "needs_background": "light"
     },
     "output_type": "display_data"
    }
   ],
   "source": [
    "### Heatmap to find the correlation with targaet\n",
    "\n",
    "fig, ax = plt.subplots(figsize = (15, 15))\n",
    "sns.heatmap(mlb_df.corr(), cmap = 'seismic', vmin = -1, ax = ax).set_title(\"Correlation Heat Map\")"
   ]
  },
  {
   "cell_type": "code",
   "execution_count": 25,
   "id": "0915712b",
   "metadata": {
    "scrolled": true
   },
   "outputs": [
    {
     "data": {
      "image/png": "[encoded data removed]",
      "text/plain": [
       "<Figure size 432x288 with 1 Axes>"
      ]
     },
     "metadata": {
      "needs_background": "light"
     },
     "output_type": "display_data"
    }
   ],
   "source": [
    "st.write(\n",
    "'''\n",
    "### Graphing and Buttons\n",
    "Let's graph some of our data with matplotlib. We can also add buttons to add interactivity to our app.\n",
    "'''\n",
    ")\n",
    "\n",
    "fig, ax = plt.subplots()\n",
    "\n",
    "ax.hist(mlb_df['BA'])\n",
    "ax.set_title('Distrivution of Batting average')\n",
    "\n",
    "show_graph = st.checkbox('Show Graph', value=True)\n",
    "\n",
    "if show_graph:\n",
    "    st.pyplot(fig)"
   ]
  },
  {
   "cell_type": "code",
   "execution_count": 33,
   "id": "044eba37",
   "metadata": {},
   "outputs": [],
   "source": [
    "# PART 6 - Linear Regression Model\n",
    "\n",
    "st.write(\n",
    "'''\n",
    "## Train a Linear Regression Model\n",
    "Now let's create a model to predict batting averages from other statistics.\n",
    "'''\n",
    ") \n",
    "\n",
    "X = mlb_df.drop(columns = 'BA')\n",
    "y = mlb_df['BA']\n",
    "\n",
    "\n",
    "X_train, X_test, y_train, y_test = train_test_split(X, y, random_state=42)\n",
    "\n",
    "lr = LinearRegression()\n",
    "lr.fit(X_train, y_train)\n",
    "\n",
    "st.write(f'Test RÂ²: {lr.score(X_test, y_test):.3f}')\n"
   ]
  },
  {
   "cell_type": "code",
   "execution_count": 34,
   "id": "40a5a33d",
   "metadata": {},
   "outputs": [
    {
     "ename": "ValueError",
     "evalue": "matmul: Input operand 1 has a mismatch in its core dimension 0, with gufunc signature (n?,k),(k,m?)->(n?,m?) (size 11 is different from 2)",
     "output_type": "error",
     "traceback": [
      "\u001b[0;31m---------------------------------------------------------------------------\u001b[0m",
      "\u001b[0;31mValueError\u001b[0m                                Traceback (most recent call last)",
      "\u001b[0;32m/tmp/ipykernel_1002/865115229.py\u001b[0m in \u001b[0;36m<module>\u001b[0;34m\u001b[0m\n\u001b[1;32m     12\u001b[0m \u001b[0;34m\u001b[0m\u001b[0m\n\u001b[1;32m     13\u001b[0m \u001b[0minput_data\u001b[0m \u001b[0;34m=\u001b[0m \u001b[0mpd\u001b[0m\u001b[0;34m.\u001b[0m\u001b[0mDataFrame\u001b[0m\u001b[0;34m(\u001b[0m\u001b[0;34m{\u001b[0m\u001b[0;34m'SO'\u001b[0m \u001b[0;34m:\u001b[0m \u001b[0;34m[\u001b[0m\u001b[0mso_1\u001b[0m\u001b[0;34m]\u001b[0m\u001b[0;34m,\u001b[0m \u001b[0;34m'BB'\u001b[0m \u001b[0;34m:\u001b[0m \u001b[0;34m[\u001b[0m\u001b[0mbb_1\u001b[0m\u001b[0;34m]\u001b[0m\u001b[0;34m}\u001b[0m\u001b[0;34m)\u001b[0m\u001b[0;34m\u001b[0m\u001b[0;34m\u001b[0m\u001b[0m\n\u001b[0;32m---> 14\u001b[0;31m \u001b[0mpred\u001b[0m \u001b[0;34m=\u001b[0m \u001b[0mlr\u001b[0m\u001b[0;34m.\u001b[0m\u001b[0mpredict\u001b[0m\u001b[0;34m(\u001b[0m\u001b[0minput_data\u001b[0m\u001b[0;34m)\u001b[0m\u001b[0;34m[\u001b[0m\u001b[0;36m0\u001b[0m\u001b[0;34m]\u001b[0m\u001b[0;34m\u001b[0m\u001b[0;34m\u001b[0m\u001b[0m\n\u001b[0m\u001b[1;32m     15\u001b[0m \u001b[0;34m\u001b[0m\u001b[0m\n\u001b[1;32m     16\u001b[0m st.write(\n",
      "\u001b[0;32m~/anaconda3/lib/python3.9/site-packages/sklearn/linear_model/_base.py\u001b[0m in \u001b[0;36mpredict\u001b[0;34m(self, X)\u001b[0m\n\u001b[1;32m    236\u001b[0m             \u001b[0mReturns\u001b[0m \u001b[0mpredicted\u001b[0m \u001b[0mvalues\u001b[0m\u001b[0;34m.\u001b[0m\u001b[0;34m\u001b[0m\u001b[0;34m\u001b[0m\u001b[0m\n\u001b[1;32m    237\u001b[0m         \"\"\"\n\u001b[0;32m--> 238\u001b[0;31m         \u001b[0;32mreturn\u001b[0m \u001b[0mself\u001b[0m\u001b[0;34m.\u001b[0m\u001b[0m_decision_function\u001b[0m\u001b[0;34m(\u001b[0m\u001b[0mX\u001b[0m\u001b[0;34m)\u001b[0m\u001b[0;34m\u001b[0m\u001b[0;34m\u001b[0m\u001b[0m\n\u001b[0m\u001b[1;32m    239\u001b[0m \u001b[0;34m\u001b[0m\u001b[0m\n\u001b[1;32m    240\u001b[0m     \u001b[0m_preprocess_data\u001b[0m \u001b[0;34m=\u001b[0m \u001b[0mstaticmethod\u001b[0m\u001b[0;34m(\u001b[0m\u001b[0m_preprocess_data\u001b[0m\u001b[0;34m)\u001b[0m\u001b[0;34m\u001b[0m\u001b[0;34m\u001b[0m\u001b[0m\n",
      "\u001b[0;32m~/anaconda3/lib/python3.9/site-packages/sklearn/linear_model/_base.py\u001b[0m in \u001b[0;36m_decision_function\u001b[0;34m(self, X)\u001b[0m\n\u001b[1;32m    219\u001b[0m \u001b[0;34m\u001b[0m\u001b[0m\n\u001b[1;32m    220\u001b[0m         \u001b[0mX\u001b[0m \u001b[0;34m=\u001b[0m \u001b[0mcheck_array\u001b[0m\u001b[0;34m(\u001b[0m\u001b[0mX\u001b[0m\u001b[0;34m,\u001b[0m \u001b[0maccept_sparse\u001b[0m\u001b[0;34m=\u001b[0m\u001b[0;34m[\u001b[0m\u001b[0;34m'csr'\u001b[0m\u001b[0;34m,\u001b[0m \u001b[0;34m'csc'\u001b[0m\u001b[0;34m,\u001b[0m \u001b[0;34m'coo'\u001b[0m\u001b[0;34m]\u001b[0m\u001b[0;34m)\u001b[0m\u001b[0;34m\u001b[0m\u001b[0;34m\u001b[0m\u001b[0m\n\u001b[0;32m--> 221\u001b[0;31m         return safe_sparse_dot(X, self.coef_.T,\n\u001b[0m\u001b[1;32m    222\u001b[0m                                dense_output=True) + self.intercept_\n\u001b[1;32m    223\u001b[0m \u001b[0;34m\u001b[0m\u001b[0m\n",
      "\u001b[0;32m~/anaconda3/lib/python3.9/site-packages/sklearn/utils/validation.py\u001b[0m in \u001b[0;36minner_f\u001b[0;34m(*args, **kwargs)\u001b[0m\n\u001b[1;32m     61\u001b[0m             \u001b[0mextra_args\u001b[0m \u001b[0;34m=\u001b[0m \u001b[0mlen\u001b[0m\u001b[0;34m(\u001b[0m\u001b[0margs\u001b[0m\u001b[0;34m)\u001b[0m \u001b[0;34m-\u001b[0m \u001b[0mlen\u001b[0m\u001b[0;34m(\u001b[0m\u001b[0mall_args\u001b[0m\u001b[0;34m)\u001b[0m\u001b[0;34m\u001b[0m\u001b[0;34m\u001b[0m\u001b[0m\n\u001b[1;32m     62\u001b[0m             \u001b[0;32mif\u001b[0m \u001b[0mextra_args\u001b[0m \u001b[0;34m<=\u001b[0m \u001b[0;36m0\u001b[0m\u001b[0;34m:\u001b[0m\u001b[0;34m\u001b[0m\u001b[0;34m\u001b[0m\u001b[0m\n\u001b[0;32m---> 63\u001b[0;31m                 \u001b[0;32mreturn\u001b[0m \u001b[0mf\u001b[0m\u001b[0;34m(\u001b[0m\u001b[0;34m*\u001b[0m\u001b[0margs\u001b[0m\u001b[0;34m,\u001b[0m \u001b[0;34m**\u001b[0m\u001b[0mkwargs\u001b[0m\u001b[0;34m)\u001b[0m\u001b[0;34m\u001b[0m\u001b[0;34m\u001b[0m\u001b[0m\n\u001b[0m\u001b[1;32m     64\u001b[0m \u001b[0;34m\u001b[0m\u001b[0m\n\u001b[1;32m     65\u001b[0m             \u001b[0;31m# extra_args > 0\u001b[0m\u001b[0;34m\u001b[0m\u001b[0;34m\u001b[0m\u001b[0m\n",
      "\u001b[0;32m~/anaconda3/lib/python3.9/site-packages/sklearn/utils/extmath.py\u001b[0m in \u001b[0;36msafe_sparse_dot\u001b[0;34m(a, b, dense_output)\u001b[0m\n\u001b[1;32m    150\u001b[0m             \u001b[0mret\u001b[0m \u001b[0;34m=\u001b[0m \u001b[0mnp\u001b[0m\u001b[0;34m.\u001b[0m\u001b[0mdot\u001b[0m\u001b[0;34m(\u001b[0m\u001b[0ma\u001b[0m\u001b[0;34m,\u001b[0m \u001b[0mb\u001b[0m\u001b[0;34m)\u001b[0m\u001b[0;34m\u001b[0m\u001b[0;34m\u001b[0m\u001b[0m\n\u001b[1;32m    151\u001b[0m     \u001b[0;32melse\u001b[0m\u001b[0;34m:\u001b[0m\u001b[0;34m\u001b[0m\u001b[0;34m\u001b[0m\u001b[0m\n\u001b[0;32m--> 152\u001b[0;31m         \u001b[0mret\u001b[0m \u001b[0;34m=\u001b[0m \u001b[0ma\u001b[0m \u001b[0;34m@\u001b[0m \u001b[0mb\u001b[0m\u001b[0;34m\u001b[0m\u001b[0;34m\u001b[0m\u001b[0m\n\u001b[0m\u001b[1;32m    153\u001b[0m \u001b[0;34m\u001b[0m\u001b[0m\n\u001b[1;32m    154\u001b[0m     if (sparse.issparse(a) and sparse.issparse(b)\n",
      "\u001b[0;31mValueError\u001b[0m: matmul: Input operand 1 has a mismatch in its core dimension 0, with gufunc signature (n?,k),(k,m?)->(n?,m?) (size 11 is different from 2)"
     ]
    }
   ],
   "source": [
    "# PART 7 - Predictions from User Input\n",
    "\n",
    "st.write(\n",
    "'''\n",
    "## Model Predictions\n",
    "And finally, we can make predictions with our trained model from user input.\n",
    "'''\n",
    ")\n",
    "\n",
    "so_1 = st.number_input('Strikeouts', value=50)\n",
    "bb_1 = st.number_input('Based on Balls', value=30)\n",
    "\n",
    "input_data = pd.DataFrame({'SO' : [so_1], 'BB' : [bb_1]})\n",
    "pred = lr.predict(input_data)[0]\n",
    "\n",
    "st.write(\n",
    "f'Predicted Sales Price of House: ${int(pred):,}'\n",
    ")"
   ]
  },
  {
   "cell_type": "code",
   "execution_count": null,
   "id": "171194b8",
   "metadata": {},
   "outputs": [],
   "source": []
  }
 ],
 "metadata": {
  "kernelspec": {
   "display_name": "Python 3 (ipykernel)",
   "language": "python",
   "name": "python3"
  },
  "language_info": {
   "codemirror_mode": {
    "name": "ipython",
    "version": 3
   },
   "file_extension": ".py",
   "mimetype": "text/x-python",
   "name": "python",
   "nbconvert_exporter": "python",
   "pygments_lexer": "ipython3",
   "version": "3.9.7"
  }
 },
 "nbformat": 4,
 "nbformat_minor": 5
}
